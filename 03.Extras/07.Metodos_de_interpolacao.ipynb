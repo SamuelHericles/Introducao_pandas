{
 "cells": [
  {
   "cell_type": "code",
   "execution_count": 2,
   "metadata": {},
   "outputs": [],
   "source": [
    "import pandas as pd"
   ]
  },
  {
   "cell_type": "code",
   "execution_count": 3,
   "metadata": {},
   "outputs": [
    {
     "data": {
      "text/plain": [
       "0    0.50\n",
       "1     NaN\n",
       "2     NaN\n",
       "3    0.52\n",
       "4    0.54\n",
       "5     NaN\n",
       "6     NaN\n",
       "7    0.59\n",
       "8     NaN\n",
       "9    0.70\n",
       "dtype: float64"
      ]
     },
     "execution_count": 3,
     "metadata": {},
     "output_type": "execute_result"
    }
   ],
   "source": [
    "data = [0.5,None,None, 0.52, 0.54,None,None,0.59,None,0.7]\n",
    "s = pd.Series(data)\n",
    "s"
   ]
  },
  {
   "cell_type": "code",
   "execution_count": 5,
   "metadata": {},
   "outputs": [
    {
     "data": {
      "text/plain": [
       "0    0.50\n",
       "1    0.00\n",
       "2    0.00\n",
       "3    0.52\n",
       "4    0.54\n",
       "5    0.00\n",
       "6    0.00\n",
       "7    0.59\n",
       "8    0.00\n",
       "9    0.70\n",
       "dtype: float64"
      ]
     },
     "execution_count": 5,
     "metadata": {},
     "output_type": "execute_result"
    }
   ],
   "source": [
    "s.fillna(0)"
   ]
  },
  {
   "cell_type": "code",
   "execution_count": 6,
   "metadata": {},
   "outputs": [
    {
     "data": {
      "text/plain": [
       "0    0.50\n",
       "1     NaN\n",
       "2     NaN\n",
       "3    0.52\n",
       "4    0.54\n",
       "5     NaN\n",
       "6     NaN\n",
       "7    0.59\n",
       "8     NaN\n",
       "9    0.70\n",
       "dtype: float64"
      ]
     },
     "execution_count": 6,
     "metadata": {},
     "output_type": "execute_result"
    }
   ],
   "source": [
    "s"
   ]
  },
  {
   "cell_type": "code",
   "execution_count": 7,
   "metadata": {},
   "outputs": [
    {
     "data": {
      "text/plain": [
       "0    0.50\n",
       "1    0.50\n",
       "2    0.50\n",
       "3    0.52\n",
       "4    0.54\n",
       "5    0.54\n",
       "6    0.54\n",
       "7    0.59\n",
       "8    0.59\n",
       "9    0.70\n",
       "dtype: float64"
      ]
     },
     "execution_count": 7,
     "metadata": {},
     "output_type": "execute_result"
    }
   ],
   "source": [
    "s.fillna(method= 'ffill')"
   ]
  },
  {
   "cell_type": "code",
   "execution_count": 8,
   "metadata": {},
   "outputs": [
    {
     "data": {
      "text/plain": [
       "0    0.50\n",
       "1    0.52\n",
       "2    0.52\n",
       "3    0.52\n",
       "4    0.54\n",
       "5    0.59\n",
       "6    0.59\n",
       "7    0.59\n",
       "8    0.70\n",
       "9    0.70\n",
       "dtype: float64"
      ]
     },
     "execution_count": 8,
     "metadata": {},
     "output_type": "execute_result"
    }
   ],
   "source": [
    "s.fillna(method='bfill')"
   ]
  },
  {
   "cell_type": "code",
   "execution_count": 9,
   "metadata": {},
   "outputs": [
    {
     "data": {
      "text/plain": [
       "0    0.50\n",
       "1    0.57\n",
       "2    0.57\n",
       "3    0.52\n",
       "4    0.54\n",
       "5    0.57\n",
       "6    0.57\n",
       "7    0.59\n",
       "8    0.57\n",
       "9    0.70\n",
       "dtype: float64"
      ]
     },
     "execution_count": 9,
     "metadata": {},
     "output_type": "execute_result"
    }
   ],
   "source": [
    "s.fillna(s.mean())"
   ]
  },
  {
   "cell_type": "code",
   "execution_count": 13,
   "metadata": {},
   "outputs": [
    {
     "data": {
      "text/plain": [
       "0    0.50\n",
       "1    0.50\n",
       "2     NaN\n",
       "3    0.52\n",
       "4    0.54\n",
       "5    0.54\n",
       "6     NaN\n",
       "7    0.59\n",
       "8    0.59\n",
       "9    0.70\n",
       "dtype: float64"
      ]
     },
     "execution_count": 13,
     "metadata": {},
     "output_type": "execute_result"
    }
   ],
   "source": [
    "s1 = s.fillna(method = 'ffill',limit=1)\n",
    "s1"
   ]
  },
  {
   "cell_type": "code",
   "execution_count": 14,
   "metadata": {},
   "outputs": [
    {
     "data": {
      "text/plain": [
       "0    0.50\n",
       "1    0.50\n",
       "2    0.52\n",
       "3    0.52\n",
       "4    0.54\n",
       "5    0.54\n",
       "6    0.59\n",
       "7    0.59\n",
       "8    0.59\n",
       "9    0.70\n",
       "dtype: float64"
      ]
     },
     "execution_count": 14,
     "metadata": {},
     "output_type": "execute_result"
    }
   ],
   "source": [
    "s1.fillna(method = 'bfill',limit=1)"
   ]
  },
  {
   "cell_type": "code",
   "execution_count": null,
   "metadata": {},
   "outputs": [],
   "source": []
  },
  {
   "cell_type": "code",
   "execution_count": null,
   "metadata": {},
   "outputs": [],
   "source": []
  },
  {
   "cell_type": "code",
   "execution_count": null,
   "metadata": {},
   "outputs": [],
   "source": []
  },
  {
   "cell_type": "code",
   "execution_count": null,
   "metadata": {},
   "outputs": [],
   "source": []
  },
  {
   "cell_type": "code",
   "execution_count": null,
   "metadata": {},
   "outputs": [],
   "source": []
  },
  {
   "cell_type": "code",
   "execution_count": null,
   "metadata": {},
   "outputs": [],
   "source": []
  },
  {
   "cell_type": "code",
   "execution_count": null,
   "metadata": {},
   "outputs": [],
   "source": []
  },
  {
   "cell_type": "code",
   "execution_count": null,
   "metadata": {},
   "outputs": [],
   "source": []
  }
 ],
 "metadata": {
  "kernelspec": {
   "display_name": "Python 3",
   "language": "python",
   "name": "python3"
  },
  "language_info": {
   "codemirror_mode": {
    "name": "ipython",
    "version": 3
   },
   "file_extension": ".py",
   "mimetype": "text/x-python",
   "name": "python",
   "nbconvert_exporter": "python",
   "pygments_lexer": "ipython3",
   "version": "3.7.6"
  }
 },
 "nbformat": 4,
 "nbformat_minor": 4
}
